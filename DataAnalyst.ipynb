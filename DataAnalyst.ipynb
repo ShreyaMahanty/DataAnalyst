{
 "cells": [
  {
   "cell_type": "code",
   "execution_count": 1,
   "id": "98124af4-ce42-41be-b838-a3fe8ccd44ac",
   "metadata": {},
   "outputs": [],
   "source": [
    "import warnings\n",
    "warnings.filterwarnings('ignore')\n",
    "import pandas as pd\n",
    "import numpy as np\n",
    "import matplotlib.pyplot as plt\n",
    "import seaborn as sns\n",
    "df=pd.read_excel(\"DataSet.xlsx\",engine=\"openpyxl\")"
   ]
  },
  {
   "cell_type": "markdown",
   "id": "cfbd6a33-5fcf-44f3-afed-fb20f50c6e8e",
   "metadata": {},
   "source": [
    "Load the data"
   ]
  },
  {
   "cell_type": "code",
   "execution_count": 2,
   "id": "7dc2263e-eed5-4ec2-b9b2-c57d74da4524",
   "metadata": {},
   "outputs": [
    {
     "data": {
      "text/plain": [
       "(1107, 19)"
      ]
     },
     "execution_count": 2,
     "metadata": {},
     "output_type": "execute_result"
    }
   ],
   "source": [
    "df.shape"
   ]
  },
  {
   "cell_type": "code",
   "execution_count": 3,
   "id": "50b6dede-64ea-470f-83a4-6193d404e993",
   "metadata": {},
   "outputs": [
    {
     "name": "stdout",
     "output_type": "stream",
     "text": [
      "        Date  Coal_RB_4800_FOB_London_Close_USD  \\\n",
      "0 2020-04-02                              41.00   \n",
      "1 2020-04-03                              40.34   \n",
      "2 2020-04-06                              40.34   \n",
      "3 2020-04-07                              40.34   \n",
      "4 2020-04-08                              40.34   \n",
      "\n",
      "   Coal_RB_5500_FOB_London_Close_USD  Coal_RB_5700_FOB_London_Close_USD  \\\n",
      "0                              53.22                               64.7   \n",
      "1                              52.36                               63.1   \n",
      "2                              52.36                               63.1   \n",
      "3                              52.36                               63.1   \n",
      "4                              52.36                               63.1   \n",
      "\n",
      "   Coal_RB_6000_FOB_CurrentWeek_Avg_USD  Coal_India_5500_CFR_London_Close_USD  \\\n",
      "0                                 97.56                                 60.50   \n",
      "1                                 70.57                                 62.03   \n",
      "2                                 70.57                                 62.03   \n",
      "3                                 70.57                                 62.03   \n",
      "4                                 70.57                                 62.03   \n",
      "\n",
      "   Price_WTI  Price_Brent_Oil  Price_Dubai_Brent_Oil  Price_ExxonMobil  \\\n",
      "0      25.32            29.94                  26.16             40.40   \n",
      "1      28.34            34.11                  29.39             39.21   \n",
      "2      26.08            33.05                  27.45             40.47   \n",
      "3      23.63            31.87                  26.00             41.24   \n",
      "4      25.09            32.84                  26.16             43.85   \n",
      "\n",
      "   Price_Shenhua  Price_All_Share  Price_Mining  \\\n",
      "0          14.58         45060.69      35562.37   \n",
      "1          14.14         44598.70      35258.30   \n",
      "2          14.26         46240.35      37032.31   \n",
      "3          14.46         47496.72      38362.12   \n",
      "4          14.24         46689.90      37469.17   \n",
      "\n",
      "   Price_LNG_Japan_Korea_Marker_PLATTS  Price_ZAR_USD  Price_Natural_Gas  \\\n",
      "0                                2.860        0.05411              1.552   \n",
      "1                                2.845        0.05245              1.621   \n",
      "2                                2.850        0.05351              1.731   \n",
      "3                                2.805        0.05457              1.852   \n",
      "4                                2.810        0.05493              1.783   \n",
      "\n",
      "   Price_ICE  Price_Dutch_TTF  Price_Indian_en_exg_rate  \n",
      "0      81.14            6.935                       NaN  \n",
      "1      80.99            6.920                     45.02  \n",
      "2      84.43            7.285                       NaN  \n",
      "3      82.30            7.285                     48.32  \n",
      "4      85.34            7.260                     45.75  \n"
     ]
    }
   ],
   "source": [
    "print(df.head())"
   ]
  },
  {
   "cell_type": "code",
   "execution_count": 4,
   "id": "2e29dfed-b106-4417-9aed-2cca2e749c15",
   "metadata": {},
   "outputs": [
    {
     "name": "stdout",
     "output_type": "stream",
     "text": [
      "<class 'pandas.core.frame.DataFrame'>\n",
      "RangeIndex: 1107 entries, 0 to 1106\n",
      "Data columns (total 19 columns):\n",
      " #   Column                                Non-Null Count  Dtype         \n",
      "---  ------                                --------------  -----         \n",
      " 0   Date                                  1107 non-null   datetime64[ns]\n",
      " 1   Coal_RB_4800_FOB_London_Close_USD     1068 non-null   float64       \n",
      " 2   Coal_RB_5500_FOB_London_Close_USD     1068 non-null   float64       \n",
      " 3   Coal_RB_5700_FOB_London_Close_USD     1068 non-null   float64       \n",
      " 4   Coal_RB_6000_FOB_CurrentWeek_Avg_USD  1084 non-null   float64       \n",
      " 5   Coal_India_5500_CFR_London_Close_USD  1068 non-null   float64       \n",
      " 6   Price_WTI                             1099 non-null   float64       \n",
      " 7   Price_Brent_Oil                       1096 non-null   float64       \n",
      " 8   Price_Dubai_Brent_Oil                 1067 non-null   float64       \n",
      " 9   Price_ExxonMobil                      1067 non-null   float64       \n",
      " 10  Price_Shenhua                         1042 non-null   float64       \n",
      " 11  Price_All_Share                       1058 non-null   float64       \n",
      " 12  Price_Mining                          1058 non-null   float64       \n",
      " 13  Price_LNG_Japan_Korea_Marker_PLATTS   1066 non-null   float64       \n",
      " 14  Price_ZAR_USD                         1107 non-null   float64       \n",
      " 15  Price_Natural_Gas                     1099 non-null   float64       \n",
      " 16  Price_ICE                             1067 non-null   float64       \n",
      " 17  Price_Dutch_TTF                       1076 non-null   float64       \n",
      " 18  Price_Indian_en_exg_rate              1047 non-null   float64       \n",
      "dtypes: datetime64[ns](1), float64(18)\n",
      "memory usage: 164.4 KB\n"
     ]
    }
   ],
   "source": [
    "df.info()"
   ]
  },
  {
   "cell_type": "code",
   "execution_count": 5,
   "id": "41bec76f-198e-48ee-84c0-261e0b58e694",
   "metadata": {},
   "outputs": [
    {
     "name": "stdout",
     "output_type": "stream",
     "text": [
      "Missing values per column:\n",
      "Date                                     0\n",
      "Coal_RB_4800_FOB_London_Close_USD       39\n",
      "Coal_RB_5500_FOB_London_Close_USD       39\n",
      "Coal_RB_5700_FOB_London_Close_USD       39\n",
      "Coal_RB_6000_FOB_CurrentWeek_Avg_USD    23\n",
      "Coal_India_5500_CFR_London_Close_USD    39\n",
      "Price_WTI                                8\n",
      "Price_Brent_Oil                         11\n",
      "Price_Dubai_Brent_Oil                   40\n",
      "Price_ExxonMobil                        40\n",
      "Price_Shenhua                           65\n",
      "Price_All_Share                         49\n",
      "Price_Mining                            49\n",
      "Price_LNG_Japan_Korea_Marker_PLATTS     41\n",
      "Price_ZAR_USD                            0\n",
      "Price_Natural_Gas                        8\n",
      "Price_ICE                               40\n",
      "Price_Dutch_TTF                         31\n",
      "Price_Indian_en_exg_rate                60\n",
      "dtype: int64\n"
     ]
    }
   ],
   "source": [
    "print(\"Missing values per column:\")\n",
    "print(df.isnull().sum())"
   ]
  },
  {
   "cell_type": "code",
   "execution_count": 6,
   "id": "d4113bd6-bf04-4869-859b-dd74d501494c",
   "metadata": {},
   "outputs": [
    {
     "data": {
      "text/plain": [
       "['Coal_RB_4800_FOB_London_Close_USD',\n",
       " 'Coal_RB_5500_FOB_London_Close_USD',\n",
       " 'Coal_RB_5700_FOB_London_Close_USD',\n",
       " 'Coal_RB_6000_FOB_CurrentWeek_Avg_USD',\n",
       " 'Coal_India_5500_CFR_London_Close_USD',\n",
       " 'Price_WTI',\n",
       " 'Price_Brent_Oil',\n",
       " 'Price_Dubai_Brent_Oil',\n",
       " 'Price_ExxonMobil',\n",
       " 'Price_Shenhua',\n",
       " 'Price_All_Share',\n",
       " 'Price_Mining',\n",
       " 'Price_LNG_Japan_Korea_Marker_PLATTS',\n",
       " 'Price_ZAR_USD',\n",
       " 'Price_Natural_Gas',\n",
       " 'Price_ICE',\n",
       " 'Price_Dutch_TTF',\n",
       " 'Price_Indian_en_exg_rate']"
      ]
     },
     "execution_count": 6,
     "metadata": {},
     "output_type": "execute_result"
    }
   ],
   "source": [
    "n_col=df.select_dtypes(include=[np.number]).columns.tolist()\n",
    "n_col"
   ]
  },
  {
   "cell_type": "markdown",
   "id": "6d77f735-d32d-4826-a180-d893636cc44b",
   "metadata": {},
   "source": [
    "Measures of central tendency(mean,median,mode)"
   ]
  },
  {
   "cell_type": "code",
   "execution_count": 7,
   "id": "3fb2d757-ba6d-44f5-8d7e-e3ff09233274",
   "metadata": {},
   "outputs": [],
   "source": [
    "for c in n_col:\n",
    "    s= df[c].fillna(df[c].mean())     "
   ]
  },
  {
   "cell_type": "code",
   "execution_count": 8,
   "id": "25d9c64b-eab6-4d37-9570-98b7b79ee7d7",
   "metadata": {},
   "outputs": [
    {
     "name": "stdout",
     "output_type": "stream",
     "text": [
      "Mean\n"
     ]
    },
    {
     "data": {
      "text/plain": [
       "<bound method Series.mean of 0       141.616027\n",
       "1        45.020000\n",
       "2       141.616027\n",
       "3        48.320000\n",
       "4        45.750000\n",
       "           ...    \n",
       "1102    182.690000\n",
       "1103    179.470000\n",
       "1104    178.680000\n",
       "1105    179.830000\n",
       "1106    180.540000\n",
       "Name: Price_Indian_en_exg_rate, Length: 1107, dtype: float64>"
      ]
     },
     "execution_count": 8,
     "metadata": {},
     "output_type": "execute_result"
    }
   ],
   "source": [
    "print(\"Mean\")\n",
    "s.mean"
   ]
  },
  {
   "cell_type": "code",
   "execution_count": 9,
   "id": "32b0bbba-2e21-4f17-ac01-feb38b1377ef",
   "metadata": {},
   "outputs": [
    {
     "name": "stdout",
     "output_type": "stream",
     "text": [
      "Median\n"
     ]
    },
    {
     "data": {
      "text/plain": [
       "np.float64(141.61602674307542)"
      ]
     },
     "execution_count": 9,
     "metadata": {},
     "output_type": "execute_result"
    }
   ],
   "source": [
    "print(\"Median\")\n",
    "s.median()"
   ]
  },
  {
   "cell_type": "code",
   "execution_count": 10,
   "id": "e041075e-a191-4003-80c7-2dc82afd4caf",
   "metadata": {},
   "outputs": [
    {
     "name": "stdout",
     "output_type": "stream",
     "text": [
      "Mode\n"
     ]
    },
    {
     "data": {
      "text/plain": [
       "0    141.616027\n",
       "Name: Price_Indian_en_exg_rate, dtype: float64"
      ]
     },
     "execution_count": 10,
     "metadata": {},
     "output_type": "execute_result"
    }
   ],
   "source": [
    "print(\"Mode\")\n",
    "s.mode()"
   ]
  },
  {
   "cell_type": "markdown",
   "id": "a9d98211-d19f-4d83-92ee-b7281c801c3f",
   "metadata": {},
   "source": [
    "Measures of dispersion (variance, standard deviation, range)"
   ]
  },
  {
   "cell_type": "code",
   "execution_count": 11,
   "id": "0234824b-9317-4e9d-bf10-909b4de36cbb",
   "metadata": {},
   "outputs": [
    {
     "name": "stdout",
     "output_type": "stream",
     "text": [
      "Variance\n"
     ]
    },
    {
     "data": {
      "text/plain": [
       "np.float64(2772.8735664297024)"
      ]
     },
     "execution_count": 11,
     "metadata": {},
     "output_type": "execute_result"
    }
   ],
   "source": [
    "print(\"Variance\")\n",
    "s.var()"
   ]
  },
  {
   "cell_type": "code",
   "execution_count": 12,
   "id": "689fea33-4bda-474e-a1d3-294bd5f934ae",
   "metadata": {},
   "outputs": [
    {
     "name": "stdout",
     "output_type": "stream",
     "text": [
      "Standard deviation\n"
     ]
    },
    {
     "data": {
      "text/plain": [
       "np.float64(52.65808168201442)"
      ]
     },
     "execution_count": 12,
     "metadata": {},
     "output_type": "execute_result"
    }
   ],
   "source": [
    "print(\"Standard deviation\")\n",
    "s.std()"
   ]
  },
  {
   "cell_type": "markdown",
   "id": "9379d6d6-eb96-4d92-aa78-fb63915b32fe",
   "metadata": {},
   "source": [
    "Skewness:"
   ]
  },
  {
   "cell_type": "code",
   "execution_count": 13,
   "id": "a08211e1-7608-4e33-b3bb-deafa82756dd",
   "metadata": {},
   "outputs": [
    {
     "data": {
      "text/plain": [
       "np.float64(0.38173782231619985)"
      ]
     },
     "execution_count": 13,
     "metadata": {},
     "output_type": "execute_result"
    }
   ],
   "source": [
    "s.skew()"
   ]
  },
  {
   "cell_type": "markdown",
   "id": "af429da5-bf11-4caf-bc06-c76e553a9e52",
   "metadata": {},
   "source": [
    "Kurtosis:"
   ]
  },
  {
   "cell_type": "code",
   "execution_count": 14,
   "id": "cbde76ab-1419-4f3f-8625-47aa7d76d757",
   "metadata": {},
   "outputs": [
    {
     "data": {
      "text/plain": [
       "np.float64(0.0757831372174067)"
      ]
     },
     "execution_count": 14,
     "metadata": {},
     "output_type": "execute_result"
    }
   ],
   "source": [
    "s.kurt()"
   ]
  },
  {
   "cell_type": "markdown",
   "id": "489304d8-a993-44cd-a433-8c06bed24d06",
   "metadata": {},
   "source": [
    "Visualization:"
   ]
  },
  {
   "cell_type": "code",
   "execution_count": 15,
   "id": "211e105b-021e-4d07-8a66-5e2551af574e",
   "metadata": {},
   "outputs": [
    {
     "data": {
      "image/png": "[encoded data removed]",
      "text/plain": [
       "<Figure size 1200x300 with 2 Axes>"
      ]
     },
     "metadata": {},
     "output_type": "display_data"
    },
    {
     "data": {
      "image/png": "[encoded data removed]",
      "text/plain": [
       "<Figure size 1200x300 with 2 Axes>"
      ]
     },
     "metadata": {},
     "output_type": "display_data"
    },
    {
     "data": {
      "image/png": "[encoded data removed]",
      "text/plain": [
       "<Figure size 1200x300 with 2 Axes>"
      ]
     },
     "metadata": {},
     "output_type": "display_data"
    },
    {
     "data": {
      "image/png": "[encoded data removed]",
      "text/plain": [
       "<Figure size 1200x300 with 2 Axes>"
      ]
     },
     "metadata": {},
     "output_type": "display_data"
    },
    {
     "data": {
      "image/png": "[encoded data removed]",
      "text/plain": [
       "<Figure size 1200x300 with 2 Axes>"
      ]
     },
     "metadata": {},
     "output_type": "display_data"
    }
   ],
   "source": [
    "for c in n_col[:5]:\n",
    "    s=df[c].dropna()\n",
    "    plt.figure(figsize=(12,3))\n",
    "    plt.subplot(1,2,1)\n",
    "    plt.title(f\"{c}-Histogram\")\n",
    "    plt.hist(s,bins=25)\n",
    "\n",
    "    plt.subplot(1,2,2)\n",
    "    plt.title(f\"{c}-Boxplot\")\n",
    "    sns.boxplot(x=s)\n"
   ]
  },
  {
   "cell_type": "markdown",
   "id": "4f63d0ca-9507-4220-bee2-44ed9ac73393",
   "metadata": {},
   "source": [
    "SQL:"
   ]
  },
  {
   "cell_type": "code",
   "execution_count": 16,
   "id": "bf130c11-a33e-46d9-b0dc-1e57ab29c277",
   "metadata": {},
   "outputs": [],
   "source": [
    "# 1. read excel\n",
    "df = pd.read_excel('DataSet.xlsx', sheet_name=0) "
   ]
  },
  {
   "cell_type": "code",
   "execution_count": 17,
   "id": "cb9c707a-e474-4b9f-a61f-1f00cd8a0159",
   "metadata": {},
   "outputs": [
    {
     "data": {
      "text/plain": [
       "1107"
      ]
     },
     "execution_count": 17,
     "metadata": {},
     "output_type": "execute_result"
    }
   ],
   "source": [
    "# 2. create sqlite database and push table\n",
    "from sqlalchemy import create_engine\n",
    "engine = create_engine('sqlite:///mydata.db')   \n",
    "df.to_sql('my_data', engine, if_exists='replace', index=False)\n"
   ]
  },
  {
   "cell_type": "code",
   "execution_count": 18,
   "id": "d7644ee8-b5da-4ee4-b041-d321b4d2f7de",
   "metadata": {},
   "outputs": [
    {
     "data": {
      "text/html": [
       "<div>\n",
       "<style scoped>\n",
       "    .dataframe tbody tr th:only-of-type {\n",
       "        vertical-align: middle;\n",
       "    }\n",
       "\n",
       "    .dataframe tbody tr th {\n",
       "        vertical-align: top;\n",
       "    }\n",
       "\n",
       "    .dataframe thead th {\n",
       "        text-align: right;\n",
       "    }\n",
       "</style>\n",
       "<table border=\"1\" class=\"dataframe\">\n",
       "  <thead>\n",
       "    <tr style=\"text-align: right;\">\n",
       "      <th></th>\n",
       "      <th>Date</th>\n",
       "      <th>Coal_RB_4800_FOB_London_Close_USD</th>\n",
       "      <th>Coal_RB_5500_FOB_London_Close_USD</th>\n",
       "      <th>Coal_RB_5700_FOB_London_Close_USD</th>\n",
       "      <th>Coal_RB_6000_FOB_CurrentWeek_Avg_USD</th>\n",
       "      <th>Coal_India_5500_CFR_London_Close_USD</th>\n",
       "      <th>Price_WTI</th>\n",
       "      <th>Price_Brent_Oil</th>\n",
       "      <th>Price_Dubai_Brent_Oil</th>\n",
       "      <th>Price_ExxonMobil</th>\n",
       "      <th>Price_Shenhua</th>\n",
       "      <th>Price_All_Share</th>\n",
       "      <th>Price_Mining</th>\n",
       "      <th>Price_LNG_Japan_Korea_Marker_PLATTS</th>\n",
       "      <th>Price_ZAR_USD</th>\n",
       "      <th>Price_Natural_Gas</th>\n",
       "      <th>Price_ICE</th>\n",
       "      <th>Price_Dutch_TTF</th>\n",
       "      <th>Price_Indian_en_exg_rate</th>\n",
       "    </tr>\n",
       "  </thead>\n",
       "  <tbody>\n",
       "    <tr>\n",
       "      <th>0</th>\n",
       "      <td>2020-04-02</td>\n",
       "      <td>41.00</td>\n",
       "      <td>53.22</td>\n",
       "      <td>64.7</td>\n",
       "      <td>97.56</td>\n",
       "      <td>60.50</td>\n",
       "      <td>25.32</td>\n",
       "      <td>29.94</td>\n",
       "      <td>26.16</td>\n",
       "      <td>40.40</td>\n",
       "      <td>14.58</td>\n",
       "      <td>45060.69</td>\n",
       "      <td>35562.37</td>\n",
       "      <td>2.860</td>\n",
       "      <td>0.05411</td>\n",
       "      <td>1.552</td>\n",
       "      <td>81.14</td>\n",
       "      <td>6.935</td>\n",
       "      <td>NaN</td>\n",
       "    </tr>\n",
       "    <tr>\n",
       "      <th>1</th>\n",
       "      <td>2020-04-03</td>\n",
       "      <td>40.34</td>\n",
       "      <td>52.36</td>\n",
       "      <td>63.1</td>\n",
       "      <td>70.57</td>\n",
       "      <td>62.03</td>\n",
       "      <td>28.34</td>\n",
       "      <td>34.11</td>\n",
       "      <td>29.39</td>\n",
       "      <td>39.21</td>\n",
       "      <td>14.14</td>\n",
       "      <td>44598.70</td>\n",
       "      <td>35258.30</td>\n",
       "      <td>2.845</td>\n",
       "      <td>0.05245</td>\n",
       "      <td>1.621</td>\n",
       "      <td>80.99</td>\n",
       "      <td>6.920</td>\n",
       "      <td>45.02</td>\n",
       "    </tr>\n",
       "    <tr>\n",
       "      <th>2</th>\n",
       "      <td>2020-04-06</td>\n",
       "      <td>40.34</td>\n",
       "      <td>52.36</td>\n",
       "      <td>63.1</td>\n",
       "      <td>70.57</td>\n",
       "      <td>62.03</td>\n",
       "      <td>26.08</td>\n",
       "      <td>33.05</td>\n",
       "      <td>27.45</td>\n",
       "      <td>40.47</td>\n",
       "      <td>14.26</td>\n",
       "      <td>46240.35</td>\n",
       "      <td>37032.31</td>\n",
       "      <td>2.850</td>\n",
       "      <td>0.05351</td>\n",
       "      <td>1.731</td>\n",
       "      <td>84.43</td>\n",
       "      <td>7.285</td>\n",
       "      <td>NaN</td>\n",
       "    </tr>\n",
       "    <tr>\n",
       "      <th>3</th>\n",
       "      <td>2020-04-07</td>\n",
       "      <td>40.34</td>\n",
       "      <td>52.36</td>\n",
       "      <td>63.1</td>\n",
       "      <td>70.57</td>\n",
       "      <td>62.03</td>\n",
       "      <td>23.63</td>\n",
       "      <td>31.87</td>\n",
       "      <td>26.00</td>\n",
       "      <td>41.24</td>\n",
       "      <td>14.46</td>\n",
       "      <td>47496.72</td>\n",
       "      <td>38362.12</td>\n",
       "      <td>2.805</td>\n",
       "      <td>0.05457</td>\n",
       "      <td>1.852</td>\n",
       "      <td>82.30</td>\n",
       "      <td>7.285</td>\n",
       "      <td>48.32</td>\n",
       "    </tr>\n",
       "    <tr>\n",
       "      <th>4</th>\n",
       "      <td>2020-04-08</td>\n",
       "      <td>40.34</td>\n",
       "      <td>52.36</td>\n",
       "      <td>63.1</td>\n",
       "      <td>70.57</td>\n",
       "      <td>62.03</td>\n",
       "      <td>25.09</td>\n",
       "      <td>32.84</td>\n",
       "      <td>26.16</td>\n",
       "      <td>43.85</td>\n",
       "      <td>14.24</td>\n",
       "      <td>46689.90</td>\n",
       "      <td>37469.17</td>\n",
       "      <td>2.810</td>\n",
       "      <td>0.05493</td>\n",
       "      <td>1.783</td>\n",
       "      <td>85.34</td>\n",
       "      <td>7.260</td>\n",
       "      <td>45.75</td>\n",
       "    </tr>\n",
       "  </tbody>\n",
       "</table>\n",
       "</div>"
      ],
      "text/plain": [
       "        Date  Coal_RB_4800_FOB_London_Close_USD  \\\n",
       "0 2020-04-02                              41.00   \n",
       "1 2020-04-03                              40.34   \n",
       "2 2020-04-06                              40.34   \n",
       "3 2020-04-07                              40.34   \n",
       "4 2020-04-08                              40.34   \n",
       "\n",
       "   Coal_RB_5500_FOB_London_Close_USD  Coal_RB_5700_FOB_London_Close_USD  \\\n",
       "0                              53.22                               64.7   \n",
       "1                              52.36                               63.1   \n",
       "2                              52.36                               63.1   \n",
       "3                              52.36                               63.1   \n",
       "4                              52.36                               63.1   \n",
       "\n",
       "   Coal_RB_6000_FOB_CurrentWeek_Avg_USD  Coal_India_5500_CFR_London_Close_USD  \\\n",
       "0                                 97.56                                 60.50   \n",
       "1                                 70.57                                 62.03   \n",
       "2                                 70.57                                 62.03   \n",
       "3                                 70.57                                 62.03   \n",
       "4                                 70.57                                 62.03   \n",
       "\n",
       "   Price_WTI  Price_Brent_Oil  Price_Dubai_Brent_Oil  Price_ExxonMobil  \\\n",
       "0      25.32            29.94                  26.16             40.40   \n",
       "1      28.34            34.11                  29.39             39.21   \n",
       "2      26.08            33.05                  27.45             40.47   \n",
       "3      23.63            31.87                  26.00             41.24   \n",
       "4      25.09            32.84                  26.16             43.85   \n",
       "\n",
       "   Price_Shenhua  Price_All_Share  Price_Mining  \\\n",
       "0          14.58         45060.69      35562.37   \n",
       "1          14.14         44598.70      35258.30   \n",
       "2          14.26         46240.35      37032.31   \n",
       "3          14.46         47496.72      38362.12   \n",
       "4          14.24         46689.90      37469.17   \n",
       "\n",
       "   Price_LNG_Japan_Korea_Marker_PLATTS  Price_ZAR_USD  Price_Natural_Gas  \\\n",
       "0                                2.860        0.05411              1.552   \n",
       "1                                2.845        0.05245              1.621   \n",
       "2                                2.850        0.05351              1.731   \n",
       "3                                2.805        0.05457              1.852   \n",
       "4                                2.810        0.05493              1.783   \n",
       "\n",
       "   Price_ICE  Price_Dutch_TTF  Price_Indian_en_exg_rate  \n",
       "0      81.14            6.935                       NaN  \n",
       "1      80.99            6.920                     45.02  \n",
       "2      84.43            7.285                       NaN  \n",
       "3      82.30            7.285                     48.32  \n",
       "4      85.34            7.260                     45.75  "
      ]
     },
     "execution_count": 18,
     "metadata": {},
     "output_type": "execute_result"
    }
   ],
   "source": [
    "df.head()"
   ]
  },
  {
   "cell_type": "code",
   "execution_count": 19,
   "id": "a997f0a7-e2a0-4210-868c-a8af4fa247aa",
   "metadata": {},
   "outputs": [],
   "source": [
    "#To import SQL extension\n",
    "%reload_ext sql\n",
    "%sql sqlite:///mydata.db"
   ]
  },
  {
   "cell_type": "markdown",
   "id": "18adedc1-4345-4437-88d9-df106fb290a3",
   "metadata": {},
   "source": [
    "Measures the central tendency (mean,median and mode)"
   ]
  },
  {
   "cell_type": "markdown",
   "id": "8296acd6-1338-46b6-9130-354a871b836a",
   "metadata": {},
   "source": [
    "Measures of dispersion (variance, standard deviation)"
   ]
  },
  {
   "cell_type": "code",
   "execution_count": 20,
   "id": "8f8066f3-a211-4690-be25-9460ca1df46c",
   "metadata": {},
   "outputs": [],
   "source": [
    "import sqlite3\n",
    "conn = sqlite3.connect(\"mydata.db\")"
   ]
  },
  {
   "cell_type": "code",
   "execution_count": 21,
   "id": "09a64932-f8bd-4671-bd3a-36ba3383c742",
   "metadata": {},
   "outputs": [
    {
     "name": "stdout",
     "output_type": "stream",
     "text": [
      "Mean Price: 72.34546860782531\n"
     ]
    }
   ],
   "source": [
    "\n",
    "#mean\n",
    "a='''\n",
    "SELECT AVG(Price_WTI) AS mean_price\n",
    "FROM my_data\n",
    "WHERE Price_WTI IS NOT NULL;'''\n",
    "result = conn.execute(a).fetchone()\n",
    "print(\"Mean Price:\",result[0])"
   ]
  },
  {
   "cell_type": "code",
   "execution_count": 22,
   "id": "916b76fb-7b91-440e-bcff-f18bf321c7b3",
   "metadata": {},
   "outputs": [
    {
     "name": "stdout",
     "output_type": "stream",
     "text": [
      "Median Price: 75.67\n"
     ]
    }
   ],
   "source": [
    "#median\n",
    "ans= '''SELECT Price_WTI AS median_price\n",
    "FROM my_data\n",
    "WHERE Price_WTI IS NOT NULL\n",
    "ORDER BY Price_WTI\n",
    "LIMIT 1\n",
    "OFFSET (SELECT COUNT(*) FROM my_data WHERE Price_WTI IS NOT NULL) / 2;'''\n",
    "result = conn.execute(ans).fetchone()\n",
    "print(\"Median Price:\",result[0])\n"
   ]
  },
  {
   "cell_type": "code",
   "execution_count": 23,
   "id": "63efdc52-85b7-4e3b-b895-9872f255ea14",
   "metadata": {},
   "outputs": [
    {
     "name": "stdout",
     "output_type": "stream",
     "text": [
      "Mode Price: None\n"
     ]
    }
   ],
   "source": [
    "#Mode\n",
    "b='''SELECT Price_WTI, COUNT(*) AS freq\n",
    "FROM my_data\n",
    "GROUP BY Price_WTI\n",
    "LIMIT 1;'''\n",
    "result = conn.execute(b).fetchone()\n",
    "print(\"Mode Price:\", result[0])\n"
   ]
  },
  {
   "cell_type": "markdown",
   "id": "4192de35-0cca-4200-9936-bddcfeed5ded",
   "metadata": {},
   "source": [
    "Measures of dispersion (variance, standard deviation)"
   ]
  },
  {
   "cell_type": "code",
   "execution_count": 24,
   "id": "b4d77a93-3e4a-4bc9-978b-501deaf1837a",
   "metadata": {},
   "outputs": [
    {
     "name": "stdout",
     "output_type": "stream",
     "text": [
      "Variance: 424.19678310615745\n"
     ]
    }
   ],
   "source": [
    "#Variance\n",
    "c='''SELECT AVG((Price_WTI - (SELECT AVG(Price_WTI) FROM my_data))*(Price_WTI - (SELECT AVG(Price_WTI) \n",
    "FROM my_data)))AS variance_price\n",
    "FROM my_data\n",
    "WHERE PRICE_WTI IS NOT NULL;'''\n",
    "result = conn.execute(c).fetchone()\n",
    "print(\"Variance:\", result[0])"
   ]
  },
  {
   "cell_type": "code",
   "execution_count": 25,
   "id": "3c16a88c-6806-4c6f-92fc-e2d0af6d73a8",
   "metadata": {},
   "outputs": [
    {
     "name": "stdout",
     "output_type": "stream",
     "text": [
      "Standard Deviation: 20.596038043909257\n"
     ]
    }
   ],
   "source": [
    "query = \"\"\"\n",
    "SELECT \n",
    "    AVG((Price_WTI - (SELECT AVG(Price_WTI) FROM my_data))*(Price_WTI - (SELECT AVG(Price_WTI)\n",
    "    FROM my_data))) AS variance_price,\n",
    "    SQRT(AVG((Price_WTI - (SELECT AVG(Price_WTI) FROM my_data))*(Price_WTI - (SELECT AVG(Price_WTI) \n",
    "    FROM my_data)))) AS std_dev_price\n",
    "FROM my_data\n",
    "WHERE Price_WTI IS NOT NULL;\n",
    "\"\"\"\n",
    "result = conn.execute(query).fetchone()\n",
    "print(\"Standard Deviation:\", result[1])\n"
   ]
  },
  {
   "cell_type": "markdown",
   "id": "442fd1ca-dde3-4745-85f0-29a9c294d9e8",
   "metadata": {},
   "source": [
    "Skewness and kurtosis"
   ]
  },
  {
   "cell_type": "code",
   "execution_count": 26,
   "id": "fc867f44-dba7-4c01-bf55-7a2cd3f43673",
   "metadata": {},
   "outputs": [
    {
     "name": "stdout",
     "output_type": "stream",
     "text": [
      "Skewness: -0.5356163224682481\n"
     ]
    }
   ],
   "source": [
    "#Skewness\n",
    "answer='''SELECT \n",
    "  AVG((Price_WTI - avg_val)*(Price_WTI - avg_val)*(Price_WTI - avg_val)) / \n",
    "  (POWER(AVG((Price_WTI - avg_val)*(Price_WTI - avg_val)), 1.5)) AS skewness\n",
    "FROM my_data, (SELECT AVG(Price_WTI) AS avg_val FROM my_data);'''\n",
    "result = conn.execute(answer).fetchone()\n",
    "print(\"Skewness:\",result[0])"
   ]
  },
  {
   "cell_type": "code",
   "execution_count": 27,
   "id": "7569767b-29c2-440a-8a77-658a9e6c0d82",
   "metadata": {},
   "outputs": [
    {
     "name": "stdout",
     "output_type": "stream",
     "text": [
      "kurtosis: 0.7991610780682588\n"
     ]
    }
   ],
   "source": [
    "#Kurtosis:\n",
    "q='''SELECT \n",
    "  AVG(POWER((PRICE_WTI - avg_val), 4)) / POWER(AVG(POWER((PRICE_WTI - avg_val), 2)), 2) - 3 AS kurtosis\n",
    "FROM my_data, (SELECT AVG(PRICE_WTI) AS avg_val FROM my_data);'''\n",
    "result = conn.execute(q).fetchone()\n",
    "print(\"kurtosis:\",result[0])"
   ]
  },
  {
   "cell_type": "markdown",
   "id": "1fd44363-1660-4208-923a-9dab46a58338",
   "metadata": {},
   "source": [
    "Dashboard :"
   ]
  },
  {
   "cell_type": "code",
   "execution_count": 28,
   "id": "69a5f301-3e64-4522-9532-054fe551cfdd",
   "metadata": {},
   "outputs": [],
   "source": [
    "import plotly.express as px\n",
    "import ipywidgets as widgets\n",
    "from IPython.display import display"
   ]
  },
  {
   "cell_type": "markdown",
   "id": "97f3c182-3b08-49ed-b329-2648c920931d",
   "metadata": {},
   "source": [
    "Select Column :"
   ]
  },
  {
   "cell_type": "code",
   "execution_count": 29,
   "id": "0eef0ab4-fa95-4da6-a78e-d65255119fa0",
   "metadata": {},
   "outputs": [
    {
     "data": {
      "application/vnd.jupyter.widget-view+json": {
       "model_id": "a5e7872a4afa41839b33ce8fd5ce1e30",
       "version_major": 2,
       "version_minor": 0
      },
      "text/plain": [
       "Dropdown(description='Column:', options=('Date', 'Coal_RB_4800_FOB_London_Close_USD', 'Coal_RB_5500_FOB_London…"
      ]
     },
     "metadata": {},
     "output_type": "display_data"
    }
   ],
   "source": [
    "#For Single Columns :\n",
    "col_dropdown = widgets.Dropdown(options=df.columns, description=\"Column:\")\n",
    "display(col_dropdown)"
   ]
  },
  {
   "cell_type": "markdown",
   "id": "fa1279d5-d0c9-4518-a7f7-40a63d17eee5",
   "metadata": {},
   "source": [
    "Visualization :"
   ]
  },
  {
   "cell_type": "code",
   "execution_count": 30,
   "id": "2d1077ae-159b-47fc-b254-2227620055c0",
   "metadata": {},
   "outputs": [
    {
     "data": {
      "application/vnd.jupyter.widget-view+json": {
       "model_id": "7fb9e2da0e8d4114b3c28a591fc135b9",
       "version_major": 2,
       "version_minor": 0
      },
      "text/plain": [
       "interactive(children=(Dropdown(description='Column:', options=('Date', 'Coal_RB_4800_FOB_London_Close_USD', 'C…"
      ]
     },
     "metadata": {},
     "output_type": "display_data"
    },
    {
     "data": {
      "text/plain": [
       "<function __main__.show(column)>"
      ]
     },
     "execution_count": 30,
     "metadata": {},
     "output_type": "execute_result"
    }
   ],
   "source": [
    "def show(column):\n",
    "    # Histogram\n",
    "    fig_histo = px.histogram(df, x=column, title=f\" Histogram for {column} \")\n",
    "    fig_histo.show()\n",
    "    \n",
    "    # Box Plot\n",
    "    fig_box = px.box(df, y=column, title=f\" Box Plot of {column} \")\n",
    "    fig_box.show()\n",
    "\n",
    "    #Violin Plot\n",
    "    fig_vio=px.violin(df, y=column, title= f\"Violin Plot of {column}\")\n",
    "    fig_vio.show()\n",
    "\n",
    "widgets.interact(show, column=col_dropdown)"
   ]
  },
  {
   "cell_type": "code",
   "execution_count": 31,
   "id": "75233a0c-7208-497b-b79c-57ff71431d4e",
   "metadata": {},
   "outputs": [
    {
     "data": {
      "application/vnd.jupyter.widget-view+json": {
       "model_id": "b61e2422de2940d5a8c84ac9c1d28a08",
       "version_major": 2,
       "version_minor": 0
      },
      "text/plain": [
       "Dropdown(description='X-axis:', options=('Date', 'Coal_RB_4800_FOB_London_Close_USD', 'Coal_RB_5500_FOB_London…"
      ]
     },
     "metadata": {},
     "output_type": "display_data"
    },
    {
     "data": {
      "application/vnd.jupyter.widget-view+json": {
       "model_id": "e3a83923befb42fa8325a7687ecb1f9c",
       "version_major": 2,
       "version_minor": 0
      },
      "text/plain": [
       "Dropdown(description='Y-axis:', options=('Date', 'Coal_RB_4800_FOB_London_Close_USD', 'Coal_RB_5500_FOB_London…"
      ]
     },
     "metadata": {},
     "output_type": "display_data"
    }
   ],
   "source": [
    "#For multiple columns:\n",
    "x_dropdown = widgets.Dropdown(options=df.columns, description=\"X-axis:\")\n",
    "y_dropdown = widgets.Dropdown(options=df.columns, description=\"Y-axis:\")\n",
    "display(x_dropdown, y_dropdown)"
   ]
  },
  {
   "cell_type": "code",
   "execution_count": 32,
   "id": "dc2ff8cc-5d91-4609-a9ce-2ea0ee240fda",
   "metadata": {},
   "outputs": [
    {
     "data": {
      "application/vnd.jupyter.widget-view+json": {
       "model_id": "9d6534d2bcb1489f800005d25d0d2da0",
       "version_major": 2,
       "version_minor": 0
      },
      "text/plain": [
       "interactive(children=(Dropdown(description='X-axis:', options=('Date', 'Coal_RB_4800_FOB_London_Close_USD', 'C…"
      ]
     },
     "metadata": {},
     "output_type": "display_data"
    },
    {
     "data": {
      "text/plain": [
       "<function __main__.plot(x, y)>"
      ]
     },
     "execution_count": 32,
     "metadata": {},
     "output_type": "execute_result"
    }
   ],
   "source": [
    "def plot(x, y):\n",
    "    #Scatter Plot :\n",
    "    fig = px.scatter(df, x=x, y=y, title=f\"Scatter plot of {y} vs {x}\")\n",
    "    fig.show()\n",
    "\n",
    "    #Line plot\n",
    "    fig=px.line(df, x=x, y=y, title=f\"Line Plot of {y} vs {x} \")\n",
    "    fig.show()\n",
    "\n",
    "    #Bar Chart:\n",
    "    fig=px.bar(df, x=x, y=y, title=f\"Bar Chart of {x} vs {y}\")\n",
    "    fig.show()\n",
    "\n",
    "widgets.interact(plot, x=x_dropdown, y=y_dropdown)"
   ]
  },
  {
   "cell_type": "code",
   "execution_count": 35,
   "id": "7377f870-a088-4dd3-8b27-1790dbb21d97",
   "metadata": {},
   "outputs": [
    {
     "data": {
      "text/html": [
       "<div>\n",
       "<style scoped>\n",
       "    .dataframe tbody tr th:only-of-type {\n",
       "        vertical-align: middle;\n",
       "    }\n",
       "\n",
       "    .dataframe tbody tr th {\n",
       "        vertical-align: top;\n",
       "    }\n",
       "\n",
       "    .dataframe thead th {\n",
       "        text-align: right;\n",
       "    }\n",
       "</style>\n",
       "<table border=\"1\" class=\"dataframe\">\n",
       "  <thead>\n",
       "    <tr style=\"text-align: right;\">\n",
       "      <th></th>\n",
       "      <th>Date</th>\n",
       "      <th>Coal_RB_4800_FOB_London_Close_USD</th>\n",
       "      <th>Coal_RB_5500_FOB_London_Close_USD</th>\n",
       "      <th>Coal_RB_5700_FOB_London_Close_USD</th>\n",
       "      <th>Coal_RB_6000_FOB_CurrentWeek_Avg_USD</th>\n",
       "      <th>Coal_India_5500_CFR_London_Close_USD</th>\n",
       "      <th>Price_WTI</th>\n",
       "      <th>Price_Brent_Oil</th>\n",
       "      <th>Price_Dubai_Brent_Oil</th>\n",
       "      <th>Price_ExxonMobil</th>\n",
       "      <th>Price_Shenhua</th>\n",
       "      <th>Price_All_Share</th>\n",
       "      <th>Price_Mining</th>\n",
       "      <th>Price_LNG_Japan_Korea_Marker_PLATTS</th>\n",
       "      <th>Price_ZAR_USD</th>\n",
       "      <th>Price_Natural_Gas</th>\n",
       "      <th>Price_ICE</th>\n",
       "      <th>Price_Dutch_TTF</th>\n",
       "      <th>Price_Indian_en_exg_rate</th>\n",
       "    </tr>\n",
       "  </thead>\n",
       "  <tbody>\n",
       "    <tr>\n",
       "      <th>0</th>\n",
       "      <td>2020-04-02</td>\n",
       "      <td>41.00</td>\n",
       "      <td>53.22</td>\n",
       "      <td>64.7</td>\n",
       "      <td>97.56</td>\n",
       "      <td>60.50</td>\n",
       "      <td>25.32</td>\n",
       "      <td>29.94</td>\n",
       "      <td>26.16</td>\n",
       "      <td>40.40</td>\n",
       "      <td>14.58</td>\n",
       "      <td>45060.69</td>\n",
       "      <td>35562.37</td>\n",
       "      <td>2.860</td>\n",
       "      <td>0.05411</td>\n",
       "      <td>1.552</td>\n",
       "      <td>81.14</td>\n",
       "      <td>6.935</td>\n",
       "      <td>NaN</td>\n",
       "    </tr>\n",
       "    <tr>\n",
       "      <th>1</th>\n",
       "      <td>2020-04-03</td>\n",
       "      <td>40.34</td>\n",
       "      <td>52.36</td>\n",
       "      <td>63.1</td>\n",
       "      <td>70.57</td>\n",
       "      <td>62.03</td>\n",
       "      <td>28.34</td>\n",
       "      <td>34.11</td>\n",
       "      <td>29.39</td>\n",
       "      <td>39.21</td>\n",
       "      <td>14.14</td>\n",
       "      <td>44598.70</td>\n",
       "      <td>35258.30</td>\n",
       "      <td>2.845</td>\n",
       "      <td>0.05245</td>\n",
       "      <td>1.621</td>\n",
       "      <td>80.99</td>\n",
       "      <td>6.920</td>\n",
       "      <td>45.02</td>\n",
       "    </tr>\n",
       "    <tr>\n",
       "      <th>2</th>\n",
       "      <td>2020-04-06</td>\n",
       "      <td>40.34</td>\n",
       "      <td>52.36</td>\n",
       "      <td>63.1</td>\n",
       "      <td>70.57</td>\n",
       "      <td>62.03</td>\n",
       "      <td>26.08</td>\n",
       "      <td>33.05</td>\n",
       "      <td>27.45</td>\n",
       "      <td>40.47</td>\n",
       "      <td>14.26</td>\n",
       "      <td>46240.35</td>\n",
       "      <td>37032.31</td>\n",
       "      <td>2.850</td>\n",
       "      <td>0.05351</td>\n",
       "      <td>1.731</td>\n",
       "      <td>84.43</td>\n",
       "      <td>7.285</td>\n",
       "      <td>NaN</td>\n",
       "    </tr>\n",
       "    <tr>\n",
       "      <th>3</th>\n",
       "      <td>2020-04-07</td>\n",
       "      <td>40.34</td>\n",
       "      <td>52.36</td>\n",
       "      <td>63.1</td>\n",
       "      <td>70.57</td>\n",
       "      <td>62.03</td>\n",
       "      <td>23.63</td>\n",
       "      <td>31.87</td>\n",
       "      <td>26.00</td>\n",
       "      <td>41.24</td>\n",
       "      <td>14.46</td>\n",
       "      <td>47496.72</td>\n",
       "      <td>38362.12</td>\n",
       "      <td>2.805</td>\n",
       "      <td>0.05457</td>\n",
       "      <td>1.852</td>\n",
       "      <td>82.30</td>\n",
       "      <td>7.285</td>\n",
       "      <td>48.32</td>\n",
       "    </tr>\n",
       "    <tr>\n",
       "      <th>4</th>\n",
       "      <td>2020-04-08</td>\n",
       "      <td>40.34</td>\n",
       "      <td>52.36</td>\n",
       "      <td>63.1</td>\n",
       "      <td>70.57</td>\n",
       "      <td>62.03</td>\n",
       "      <td>25.09</td>\n",
       "      <td>32.84</td>\n",
       "      <td>26.16</td>\n",
       "      <td>43.85</td>\n",
       "      <td>14.24</td>\n",
       "      <td>46689.90</td>\n",
       "      <td>37469.17</td>\n",
       "      <td>2.810</td>\n",
       "      <td>0.05493</td>\n",
       "      <td>1.783</td>\n",
       "      <td>85.34</td>\n",
       "      <td>7.260</td>\n",
       "      <td>45.75</td>\n",
       "    </tr>\n",
       "  </tbody>\n",
       "</table>\n",
       "</div>"
      ],
      "text/plain": [
       "        Date  Coal_RB_4800_FOB_London_Close_USD  \\\n",
       "0 2020-04-02                              41.00   \n",
       "1 2020-04-03                              40.34   \n",
       "2 2020-04-06                              40.34   \n",
       "3 2020-04-07                              40.34   \n",
       "4 2020-04-08                              40.34   \n",
       "\n",
       "   Coal_RB_5500_FOB_London_Close_USD  Coal_RB_5700_FOB_London_Close_USD  \\\n",
       "0                              53.22                               64.7   \n",
       "1                              52.36                               63.1   \n",
       "2                              52.36                               63.1   \n",
       "3                              52.36                               63.1   \n",
       "4                              52.36                               63.1   \n",
       "\n",
       "   Coal_RB_6000_FOB_CurrentWeek_Avg_USD  Coal_India_5500_CFR_London_Close_USD  \\\n",
       "0                                 97.56                                 60.50   \n",
       "1                                 70.57                                 62.03   \n",
       "2                                 70.57                                 62.03   \n",
       "3                                 70.57                                 62.03   \n",
       "4                                 70.57                                 62.03   \n",
       "\n",
       "   Price_WTI  Price_Brent_Oil  Price_Dubai_Brent_Oil  Price_ExxonMobil  \\\n",
       "0      25.32            29.94                  26.16             40.40   \n",
       "1      28.34            34.11                  29.39             39.21   \n",
       "2      26.08            33.05                  27.45             40.47   \n",
       "3      23.63            31.87                  26.00             41.24   \n",
       "4      25.09            32.84                  26.16             43.85   \n",
       "\n",
       "   Price_Shenhua  Price_All_Share  Price_Mining  \\\n",
       "0          14.58         45060.69      35562.37   \n",
       "1          14.14         44598.70      35258.30   \n",
       "2          14.26         46240.35      37032.31   \n",
       "3          14.46         47496.72      38362.12   \n",
       "4          14.24         46689.90      37469.17   \n",
       "\n",
       "   Price_LNG_Japan_Korea_Marker_PLATTS  Price_ZAR_USD  Price_Natural_Gas  \\\n",
       "0                                2.860        0.05411              1.552   \n",
       "1                                2.845        0.05245              1.621   \n",
       "2                                2.850        0.05351              1.731   \n",
       "3                                2.805        0.05457              1.852   \n",
       "4                                2.810        0.05493              1.783   \n",
       "\n",
       "   Price_ICE  Price_Dutch_TTF  Price_Indian_en_exg_rate  \n",
       "0      81.14            6.935                       NaN  \n",
       "1      80.99            6.920                     45.02  \n",
       "2      84.43            7.285                       NaN  \n",
       "3      82.30            7.285                     48.32  \n",
       "4      85.34            7.260                     45.75  "
      ]
     },
     "execution_count": 35,
     "metadata": {},
     "output_type": "execute_result"
    }
   ],
   "source": [
    "from scipy import stats\n",
    "from ipywidgets import interact, Dropdown, Checkbox, VBox\n",
    "data = pd.read_excel(\"DataSet.xlsx\")  \n",
    "data.head()\n"
   ]
  },
  {
   "cell_type": "code",
   "execution_count": 45,
   "id": "f015f73d-f22f-4b51-819a-9df4ae8d6bb2",
   "metadata": {},
   "outputs": [],
   "source": [
    "def dashboard(column, show_hist=True, show_box=True):\n",
    "    # Only work with numeric columns\n",
    "    numeric_data = data[column].dropna()\n",
    "    \n",
    "    \n",
    "    # Calculate statistics\n",
    "    mean_val = numeric_data.mean()\n",
    "    median_val = numeric_data.median()\n",
    "    mode_val = numeric_data.mode()[0]\n",
    "    std_val = numeric_data.std()\n",
    "    skew_val = stats.skew(numeric_data)\n",
    "    kurt_val = stats.kurtosis(numeric_data)\n",
    "    \n",
    "    # Display stats\n",
    "    print(f\"**Selected Column:** {column}\")\n",
    "    print(f\"Mean: {mean_val}\")\n",
    "    print(f\"Median: {median_val}\")\n",
    "    print(f\"Mode: {mode_val}\")\n",
    "    print(f\"Standard Deviation: {std_val}\")\n",
    "    print(f\"Skewness: {skew_val}\")\n",
    "    print(f\"Kurtosis: {kurt_val}\")\n",
    "    \n",
    "    # Plot histogram\n",
    "    if show_hist:\n",
    "        plt.figure(figsize=(10,4))\n",
    "        sns.histplot(numeric_data, color='skyblue')\n",
    "        plt.title(f'Histogram of {column}')\n",
    "        plt.show()\n",
    "    \n",
    "    # Plot boxplot\n",
    "    if show_box:\n",
    "        plt.figure(figsize=(6,4))\n",
    "        sns.boxplot(y=numeric_data, color='lightgreen')\n",
    "        plt.title(f'Boxplot of {column}')\n",
    "        plt.show()\n",
    "\n"
   ]
  },
  {
   "cell_type": "code",
   "execution_count": 46,
   "id": "e6673be7-4f2c-4e24-9c75-e9d0063b4b44",
   "metadata": {},
   "outputs": [
    {
     "data": {
      "application/vnd.jupyter.widget-view+json": {
       "model_id": "6d036470df6d4e71ba60c7a805868bfa",
       "version_major": 2,
       "version_minor": 0
      },
      "text/plain": [
       "interactive(children=(Dropdown(description='Select Column:', options=('Coal_RB_4800_FOB_London_Close_USD', 'Co…"
      ]
     },
     "metadata": {},
     "output_type": "display_data"
    }
   ],
   "source": [
    "numeric_cols = data.select_dtypes(include=np.number).columns.tolist()\n",
    "\n",
    "interact(\n",
    "    dashboard,\n",
    "    column=Dropdown(options=numeric_cols, description=\"Select Column:\"),\n",
    "    show_hist=Checkbox(value=True, description=\"Show Histogram\"),\n",
    "    show_box=Checkbox(value=True, description=\"Show Boxplot\")\n",
    ");\n"
   ]
  },
  {
   "cell_type": "code",
   "execution_count": null,
   "id": "dba67601-ba21-4e04-b223-08028b0061a7",
   "metadata": {},
   "outputs": [],
   "source": []
  }
 ],
 "metadata": {
  "kernelspec": {
   "display_name": "Python 3 (ipykernel)",
   "language": "python",
   "name": "python3"
  },
  "language_info": {
   "codemirror_mode": {
    "name": "ipython",
    "version": 3
   },
   "file_extension": ".py",
   "mimetype": "text/x-python",
   "name": "python",
   "nbconvert_exporter": "python",
   "pygments_lexer": "ipython3",
   "version": "3.12.0"
  }
 },
 "nbformat": 4,
 "nbformat_minor": 5
}
